{
  "nbformat": 4,
  "nbformat_minor": 0,
  "metadata": {
    "colab": {
      "name": "English_Telugu_Translieration_without_attention.ipynb",
      "provenance": []
    },
    "kernelspec": {
      "name": "python3",
      "display_name": "Python 3"
    },
    "language_info": {
      "name": "python"
    }
  },
  "cells": [
    {
      "cell_type": "code",
      "metadata": {
        "colab": {
          "base_uri": "https://localhost:8080/"
        },
        "id": "6jCepbuIyKU-",
        "outputId": "4f48d7e2-7fa4-4dc7-eb04-94dc7864eb4f"
      },
      "source": [
        "!curl --header \"Host: storage.googleapis.com\" --header \"User-Agent: Mozilla/5.0 (Windows NT 10.0; Win64; x64) AppleWebKit/537.36 (KHTML, like Gecko) Chrome/89.0.4389.128 Safari/537.36 Edg/89.0.774.77\" --header \"Accept: text/html,application/xhtml+xml,application/xml;q=0.9,image/webp,image/apng,*/*;q=0.8,application/signed-exchange;v=b3;q=0.9\" --header \"Accept-Language: en-US,en;q=0.9\" --header \"Referer: https://github.com/google-research-datasets/dakshina\" \"https://storage.googleapis.com/gresearch/dakshina/dakshina_dataset_v1.0.tar\" -L -o \"dakshina_dataset_v1.0.tar\""
      ],
      "execution_count": null,
      "outputs": [
        {
          "output_type": "stream",
          "text": [
            "  % Total    % Received % Xferd  Average Speed   Time    Time     Time  Current\n",
            "                                 Dload  Upload   Total   Spent    Left  Speed\n",
            "100 1915M  100 1915M    0     0  72.3M      0  0:00:26  0:00:26 --:--:-- 75.9M\n"
          ],
          "name": "stdout"
        }
      ]
    },
    {
      "cell_type": "code",
      "metadata": {
        "id": "45-MBmWkyRO1"
      },
      "source": [
        "import shutil\n",
        "shutil.unpack_archive(\"/content/dakshina_dataset_v1.0.tar\",'/content/')"
      ],
      "execution_count": null,
      "outputs": []
    },
    {
      "cell_type": "code",
      "metadata": {
        "id": "1bTZURNJyRDy"
      },
      "source": [
        "import re\n",
        "from tqdm import tqdm\n",
        "import pandas as pd\n",
        "import numpy as np\n",
        "import tensorflow as tf\n",
        "from keras.models import Sequential,Model,load_model\n",
        "from keras.layers import Dense,LSTM,GRU,SimpleRNN,Input,Dropout,TimeDistributed,RepeatVector,dot,BatchNormalization,concatenate,multiply,Activation\n",
        "from keras.layers.embeddings import Embedding\n",
        "from keras.preprocessing import sequence"
      ],
      "execution_count": null,
      "outputs": []
    },
    {
      "cell_type": "code",
      "metadata": {
        "id": "r5KR1zb1VlXK"
      },
      "source": [
        "class Word_Accuracy_Callback(tf.keras.callbacks.Callback):\n",
        "  def __init__(self,obj):\n",
        "    self.obj = obj\n",
        "\n",
        "  def on_epoch_end(self,epoch,logs):\n",
        "    count = 0\n",
        "    for i in range(self.obj.encoder_cv.shape[0]):\n",
        "      pred = self.model([np.expand_dims(self.obj.encoder_cv[i],0),np.expand_dims(self.obj.decoder_cv[i],0)])\n",
        "      actual_out = re.sub('\\t|\\n','',''.join([self.obj.inv_target_token_index[self.obj.decoder_cv[i][j]] for j in range(self.obj.max_length_y)]))\n",
        "      predicted_out = re.sub('\\t|\\n','',''.join(self.obj.inv_target_token_index[np.argmax(pred[0][j])] for j in range(self.obj.max_length_y)))\n",
        "      if (actual_out==predicted_out):\n",
        "        count+=1\n",
        "\n",
        "    logs[\"validation accuracy\"] = count/self.obj.encoder_cv.shape[0]\n",
        "    print(\"vallidation accuracy =\", count/self.obj.encoder_cv.shape[0])"
      ],
      "execution_count": null,
      "outputs": []
    },
    {
      "cell_type": "code",
      "metadata": {
        "id": "0RsZx8CoyRAX"
      },
      "source": [
        "class seq2seq:\n",
        "    def __init__(self,cell,embedding_size,latent_dim,encoder_layers_size,decoder_layers_size,dropouts,epochs,batch_size):\n",
        "        self.cell = cell\n",
        "        self.embedding_size = embedding_size\n",
        "        self.latent_dim = latent_dim\n",
        "        self.encoder_layers_size = encoder_layers_size\n",
        "        self.decoder_layers_size = decoder_layers_size\n",
        "        self.dropouts=dropouts\n",
        "        self.epochs=epochs\n",
        "        self.batch_size=batch_size\n",
        "\n",
        "    def get_data(self,path):\n",
        "        d = pd.read_csv(path,sep=\"\\t\",header=None,error_bad_lines=False)\n",
        "        d = d.dropna()\n",
        "\n",
        "        decoder_target_data = np.zeros((d.shape[0],self.max_length_y,self.decoder_tokens), dtype=\"float32\")\n",
        "\n",
        "        for i,target_text in enumerate(d[0]):\n",
        "            target_text = '\\t'+target_text+'\\n'\n",
        "            for t, char in enumerate(target_text):\n",
        "                if t > 0:\n",
        "                    decoder_target_data[i, t - 1, self.target_token_index[char]] = 1.0\n",
        "            decoder_target_data[i, t:, self.target_token_index[\"\\n\"]] = 1.0\n",
        "\n",
        "        return ([[self.input_token_index[letter] for letter in list('\\t'+word+'\\n')] for word in d[1]]),\\\n",
        "                ([[self.target_token_index[letter] for letter in list('\\t'+word+'\\n')] for word in d[0]]),decoder_target_data\n",
        "\n",
        "    def create_vocab(self,path):\n",
        "        d = pd.read_csv(path,sep=\"\\t\",header=None,error_bad_lines=False)\n",
        "        d = d.dropna()\n",
        "\n",
        "        x = [list('\\t'+word+'\\n') for word in np.array(d[1])]\n",
        "        y = [list('\\t'+word+'\\n') for word in np.array(d[0])]\n",
        "\n",
        "        telugu_vocab = set()\n",
        "        english_vocab = set()\n",
        "\n",
        "        for word in x:\n",
        "            for char in word:\n",
        "                english_vocab.add(char)\n",
        "\n",
        "        for word in y:\n",
        "            for char in word:\n",
        "                telugu_vocab.add(char)\n",
        "\n",
        "        telugu_list = sorted(list(telugu_vocab))\n",
        "        english_list = sorted(list(english_vocab))\n",
        "\n",
        "        max_length_x = (np.max([len(i) for i in x]))\n",
        "        max_length_y = (np.max([len(i) for i in y]))\n",
        "\n",
        "        return telugu_list,english_list,max_length_x,max_length_y    \n",
        "\n",
        "    def create_data(self):\n",
        "        train_path = \"/content/dakshina_dataset_v1.0/te/lexicons/te.translit.sampled.train.tsv\"\n",
        "        cv_path = \"/content/dakshina_dataset_v1.0/te/lexicons/te.translit.sampled.dev.tsv\"\n",
        "        test_path = \"/content/dakshina_dataset_v1.0/te/lexicons/te.translit.sampled.test.tsv\"\n",
        "\n",
        "        telugu_list,english_list,self.max_length_x,self.max_length_y = self.create_vocab(train_path)\n",
        "        self.encoder_tokens = len(english_list)\n",
        "        self.decoder_tokens = len(telugu_list)\n",
        "\n",
        "        # Dict for char to index\n",
        "        self.input_token_index = dict([(char, i) for i, char in enumerate(english_list)])\n",
        "        self.target_token_index = dict([(char, i) for i, char in enumerate(telugu_list)])\n",
        "\n",
        "        # Dict for index to char\n",
        "        self.inv_input_token_index = dict({(value,key) for key,value in self.input_token_index.items()})\n",
        "        self.inv_target_token_index = dict({(value,key) for key,value in self.target_token_index.items()})\n",
        "\n",
        "        encoder_train,decoder_train,self.decoder_target_train = self.get_data(train_path)\n",
        "        encoder_cv,decoder_cv,self.decoder_target_cv = self.get_data(cv_path)\n",
        "        encoder_test,decoder_test,self.decoder_target_test = self.get_data(test_path)\n",
        "\n",
        "\n",
        "        self.encoder_train = sequence.pad_sequences(encoder_train,maxlen=self.max_length_x,padding=\"post\")\n",
        "        self.decoder_train = sequence.pad_sequences(decoder_train,maxlen=self.max_length_y,padding=\"post\")\n",
        "        self.encoder_cv = sequence.pad_sequences(encoder_cv,maxlen=self.max_length_x,padding=\"post\")\n",
        "        self.decoder_cv = sequence.pad_sequences(decoder_cv,maxlen=self.max_length_y,padding=\"post\")\n",
        "        self.encoder_test = sequence.pad_sequences(encoder_test,maxlen=self.max_length_x,padding=\"post\")\n",
        "        self.decoder_test = sequence.pad_sequences(decoder_test,maxlen=self.max_length_y,padding=\"post\")\n",
        "\n",
        "    def create_model(self):\n",
        "        encoder_inputs = Input(shape=(None,))\n",
        "        x = Embedding(self.encoder_tokens,self.embedding_size,input_length=self.max_length_x)(encoder_inputs)\n",
        "        for _ in range(self.encoder_layers_size):\n",
        "            if self.cell == \"lstm\":\n",
        "                x,state_h,state_c = LSTM(self.latent_dim,return_state=True,return_sequences=True,dropout=self.dropouts)(x)\n",
        "                encoder_states = [state_h,state_c]\n",
        "            elif self.cell == \"rnn\":\n",
        "                x,state_c = SimpleRNN(self.latent_dim,return_state=True,return_sequences=True,dropout=self.dropouts)(x)\n",
        "                encoder_states = [state_c]\n",
        "            elif self.cell == \"gru\":\n",
        "                x,state_c = GRU(self.latent_dim,return_state=True,return_sequences=True,dropout=self.dropouts)(x)\n",
        "                encoder_states = [state_c]\n",
        "                        \n",
        "\n",
        "        decoder_inputs = Input(shape=(None,))\n",
        "        decoder_embb = Embedding(self.decoder_tokens,self.embedding_size,input_length=self.max_length_y)(decoder_inputs)\n",
        "        if self.cell == \"lstm\":\n",
        "            decoder_lstm,state_h,state_c = LSTM(self.latent_dim, return_sequences=True,return_state=True,dropout=self.dropouts)(decoder_embb,initial_state=encoder_states)\n",
        "        elif self.cell == \"rnn\":\n",
        "            decoder_lstm,state_h = SimpleRNN(self.latent_dim, return_sequences=True,return_state=True,dropout=self.dropouts)(decoder_embb,initial_state=encoder_states)\n",
        "        elif self.cell == \"gru\":\n",
        "            decoder_lstm,state_h = GRU(self.latent_dim, return_sequences=True,return_state=True,dropout=self.dropouts)(decoder_embb,initial_state=encoder_states)\n",
        "\n",
        "        for i in range(self.decoder_layers_size-1):\n",
        "            if self.cell == \"lstm\":\n",
        "                decoder_lstm,state_h,state_c = LSTM(self.latent_dim, return_sequences=True,return_state=True,dropout=self.dropouts)(decoder_lstm)\n",
        "            elif self.cell == \"rnn\":\n",
        "                decoder_lstm,state_h = SimpleRNN(self.latent_dim, return_sequences=True,return_state=True,dropout=self.dropouts)(decoder_lstm)\n",
        "            elif self.cell == \"gru\":\n",
        "                decoder_lstm,state_h = GRU(self.latent_dim, return_sequences=True,return_state=True,dropout=self.dropouts)(decoder_lstm)\n",
        "        \n",
        "\n",
        "        decoder_outputs = TimeDistributed(Dense(self.decoder_tokens, activation='softmax'))(decoder_lstm)\n",
        "\n",
        "        model = Model([encoder_inputs, decoder_inputs], decoder_outputs)\n",
        "\n",
        "        return model\n",
        "\n",
        "    def percentage_of_correct_test_predictions(self,model):\n",
        "        count = 0\n",
        "        for i in tqdm(range(self.encoder_test.shape[0])):\n",
        "            pred = model([np.expand_dims(self.encoder_test[i],0),np.expand_dims(self.decoder_test[i],0)])\n",
        "            actual_out = re.sub('\\t|\\n','',''.join([self.inv_target_token_index[self.decoder_test[i][j]] for j in range(self.max_length_y)]))\n",
        "            predicted_out = re.sub('\\t|\\n','',''.join(self.inv_target_token_index[np.argmax(pred[0][j])] for j in range(self.max_length_y)))\n",
        "            if (actual_out==predicted_out):\n",
        "                count+=1\n",
        "        return count/self.encoder_test.shape[0]\n",
        "\n",
        "    def run(self,model):\n",
        "        # Compile & run training\n",
        "        model.compile(optimizer='Adam', loss='categorical_crossentropy', metrics=[\"accuracy\"])\n",
        "\n",
        "        model.fit([self.encoder_train,self.decoder_train], self.decoder_target_train,\n",
        "                self.batch_size,\n",
        "                self.epochs,validation_data=([self.encoder_cv,self.decoder_cv], self.decoder_target_cv),\n",
        "                callbacks = [Word_Accuracy_Callback(self),WandbCallback(monitor='WordAccuracy',save_model = True)],verbose=1) \n",
        "        "
      ],
      "execution_count": null,
      "outputs": []
    },
    {
      "cell_type": "code",
      "metadata": {
        "colab": {
          "base_uri": "https://localhost:8080/"
        },
        "id": "CoC-oh7XzWON",
        "outputId": "b16bbce0-036f-44a2-ef12-1d5f83dacc46"
      },
      "source": [
        "model.summary()"
      ],
      "execution_count": null,
      "outputs": [
        {
          "output_type": "stream",
          "text": [
            "Model: \"model_1\"\n",
            "__________________________________________________________________________________________________\n",
            "Layer (type)                    Output Shape         Param #     Connected to                     \n",
            "==================================================================================================\n",
            "input_3 (InputLayer)            [(None, None)]       0                                            \n",
            "__________________________________________________________________________________________________\n",
            "embedding_2 (Embedding)         (None, None, 12)     336         input_3[0][0]                    \n",
            "__________________________________________________________________________________________________\n",
            "input_4 (InputLayer)            [(None, None)]       0                                            \n",
            "__________________________________________________________________________________________________\n",
            "simple_rnn_4 (SimpleRNN)        [(None, None, 512),  268800      embedding_2[0][0]                \n",
            "__________________________________________________________________________________________________\n",
            "embedding_3 (Embedding)         (None, None, 12)     780         input_4[0][0]                    \n",
            "__________________________________________________________________________________________________\n",
            "simple_rnn_5 (SimpleRNN)        [(None, None, 512),  524800      simple_rnn_4[0][0]               \n",
            "__________________________________________________________________________________________________\n",
            "simple_rnn_6 (SimpleRNN)        [(None, None, 512),  268800      embedding_3[0][0]                \n",
            "                                                                 simple_rnn_5[0][1]               \n",
            "__________________________________________________________________________________________________\n",
            "simple_rnn_7 (SimpleRNN)        [(None, None, 512),  524800      simple_rnn_6[0][0]               \n",
            "__________________________________________________________________________________________________\n",
            "time_distributed_1 (TimeDistrib (None, None, 65)     33345       simple_rnn_7[0][0]               \n",
            "==================================================================================================\n",
            "Total params: 1,621,661\n",
            "Trainable params: 1,621,661\n",
            "Non-trainable params: 0\n",
            "__________________________________________________________________________________________________\n"
          ],
          "name": "stdout"
        }
      ]
    },
    {
      "cell_type": "code",
      "metadata": {
        "id": "xLK7f-IhVis4"
      },
      "source": [
        "wandb.init(project='assignment 3 question 2_', entity='adi00510')"
      ],
      "execution_count": null,
      "outputs": []
    },
    {
      "cell_type": "code",
      "metadata": {
        "id": "Qb9f7KtMVstC"
      },
      "source": [
        "sweep_config={\n",
        "    'method': 'random',\n",
        "    'metric': {\n",
        "        'name': 'accuracy',\n",
        "        'goal': 'maximize'\n",
        "    },\n",
        "    'parameters':{\n",
        "        'epochs':{\n",
        "            'values':[3,5,6]\n",
        "        },\n",
        "        'embedding_size':{\n",
        "            'values':[8,12,16,20]\n",
        "        },\n",
        "        'encoder_layers_size':{\n",
        "            'values':[1,2,3]\n",
        "        },\n",
        "        'decoder_layers_size':{\n",
        "            'values':[1,2,3]\n",
        "        },\n",
        "        'cell':{\n",
        "            'values':[\"rnn\",\"gru\",\"lstm\"]\n",
        "        },\n",
        "        'dropouts':{\n",
        "            'values':[0,0.2,0.3,0.4]\n",
        "        },\n",
        "        'latent_dim':{\n",
        "            'values':[16,32,64,128,256,512]\n",
        "        },\n",
        "        'batch_size':{\n",
        "            'values':[32,64]\n",
        "        }\n",
        "    }\n",
        "}"
      ],
      "execution_count": null,
      "outputs": []
    },
    {
      "cell_type": "code",
      "metadata": {
        "id": "RaV9bs6NeguQ",
        "colab": {
          "base_uri": "https://localhost:8080/"
        },
        "outputId": "c59f4f9f-fd54-48da-d1be-2449c72b1df0"
      },
      "source": [
        "!pip install --upgrade wandb\n",
        "import wandb\n",
        "!wandb login 3c967c63b099a3b2acd600aa30008e7de1ea6498"
      ],
      "execution_count": null,
      "outputs": [
        {
          "output_type": "stream",
          "text": [
            "Requirement already up-to-date: wandb in /usr/local/lib/python3.7/dist-packages (0.10.30)\n",
            "Requirement already satisfied, skipping upgrade: psutil>=5.0.0 in /usr/local/lib/python3.7/dist-packages (from wandb) (5.4.8)\n",
            "Requirement already satisfied, skipping upgrade: subprocess32>=3.5.3 in /usr/local/lib/python3.7/dist-packages (from wandb) (3.5.4)\n",
            "Requirement already satisfied, skipping upgrade: protobuf>=3.12.0 in /usr/local/lib/python3.7/dist-packages (from wandb) (3.12.4)\n",
            "Requirement already satisfied, skipping upgrade: docker-pycreds>=0.4.0 in /usr/local/lib/python3.7/dist-packages (from wandb) (0.4.0)\n",
            "Requirement already satisfied, skipping upgrade: configparser>=3.8.1 in /usr/local/lib/python3.7/dist-packages (from wandb) (5.0.2)\n",
            "Requirement already satisfied, skipping upgrade: PyYAML in /usr/local/lib/python3.7/dist-packages (from wandb) (3.13)\n",
            "Requirement already satisfied, skipping upgrade: sentry-sdk>=0.4.0 in /usr/local/lib/python3.7/dist-packages (from wandb) (1.1.0)\n",
            "Requirement already satisfied, skipping upgrade: python-dateutil>=2.6.1 in /usr/local/lib/python3.7/dist-packages (from wandb) (2.8.1)\n",
            "Requirement already satisfied, skipping upgrade: pathtools in /usr/local/lib/python3.7/dist-packages (from wandb) (0.1.2)\n",
            "Requirement already satisfied, skipping upgrade: six>=1.13.0 in /usr/local/lib/python3.7/dist-packages (from wandb) (1.15.0)\n",
            "Requirement already satisfied, skipping upgrade: promise<3,>=2.0 in /usr/local/lib/python3.7/dist-packages (from wandb) (2.3)\n",
            "Requirement already satisfied, skipping upgrade: GitPython>=1.0.0 in /usr/local/lib/python3.7/dist-packages (from wandb) (3.1.17)\n",
            "Requirement already satisfied, skipping upgrade: requests<3,>=2.0.0 in /usr/local/lib/python3.7/dist-packages (from wandb) (2.23.0)\n",
            "Requirement already satisfied, skipping upgrade: Click>=7.0 in /usr/local/lib/python3.7/dist-packages (from wandb) (8.0.0)\n",
            "Requirement already satisfied, skipping upgrade: shortuuid>=0.5.0 in /usr/local/lib/python3.7/dist-packages (from wandb) (1.0.1)\n",
            "Requirement already satisfied, skipping upgrade: setuptools in /usr/local/lib/python3.7/dist-packages (from protobuf>=3.12.0->wandb) (56.1.0)\n",
            "Requirement already satisfied, skipping upgrade: certifi in /usr/local/lib/python3.7/dist-packages (from sentry-sdk>=0.4.0->wandb) (2020.12.5)\n",
            "Requirement already satisfied, skipping upgrade: urllib3>=1.10.0 in /usr/local/lib/python3.7/dist-packages (from sentry-sdk>=0.4.0->wandb) (1.24.3)\n",
            "Requirement already satisfied, skipping upgrade: gitdb<5,>=4.0.1 in /usr/local/lib/python3.7/dist-packages (from GitPython>=1.0.0->wandb) (4.0.7)\n",
            "Requirement already satisfied, skipping upgrade: typing-extensions>=3.7.4.0; python_version < \"3.8\" in /usr/local/lib/python3.7/dist-packages (from GitPython>=1.0.0->wandb) (3.7.4.3)\n",
            "Requirement already satisfied, skipping upgrade: chardet<4,>=3.0.2 in /usr/local/lib/python3.7/dist-packages (from requests<3,>=2.0.0->wandb) (3.0.4)\n",
            "Requirement already satisfied, skipping upgrade: idna<3,>=2.5 in /usr/local/lib/python3.7/dist-packages (from requests<3,>=2.0.0->wandb) (2.10)\n",
            "Requirement already satisfied, skipping upgrade: smmap<5,>=3.0.1 in /usr/local/lib/python3.7/dist-packages (from gitdb<5,>=4.0.1->GitPython>=1.0.0->wandb) (4.0.0)\n",
            "\u001b[34m\u001b[1mwandb\u001b[0m: Appending key for api.wandb.ai to your netrc file: /root/.netrc\n"
          ],
          "name": "stdout"
        }
      ]
    },
    {
      "cell_type": "code",
      "metadata": {
        "id": "k7suqMXwn_8G",
        "colab": {
          "base_uri": "https://localhost:8080/"
        },
        "outputId": "44c12be0-bcd2-4b02-872b-8565eec72697"
      },
      "source": [
        "sweep_id = wandb.sweep(sweep_config,project='assignment 3 question 2_', entity=\"adi00510\")"
      ],
      "execution_count": null,
      "outputs": [
        {
          "output_type": "stream",
          "text": [
            "\u001b[34m\u001b[1mwandb\u001b[0m: \u001b[33mWARNING\u001b[0m Calling wandb.login() after wandb.init() has no effect.\n"
          ],
          "name": "stderr"
        },
        {
          "output_type": "stream",
          "text": [
            "Create sweep with ID: x5jjfioq\n",
            "Sweep URL: https://wandb.ai/adi00510/assignment%203%20question%202_/sweeps/x5jjfioq\n"
          ],
          "name": "stdout"
        }
      ]
    },
    {
      "cell_type": "code",
      "metadata": {
        "id": "WXItiZCTegjx"
      },
      "source": [
        "def train():\n",
        "    config_defaults={\n",
        "      'epochs':5,\n",
        "      'embedding_size':16,\n",
        "      'dropouts':0,\n",
        "      'encoder_layer_size':2,\n",
        "      'decoder_layer_size':2,\n",
        "      'cell':\"lstm\",\n",
        "      'latent_dim':512,\n",
        "      'batch_size': 64\n",
        "       }\n",
        "    \n",
        "    wandb.init(config=config_defaults)\n",
        "    config=wandb.config\n",
        "    s2s=seq2seq(config.cell,config.embedding_size,config.latent_dim,config.encoder_layers_size,config.decoder_layers_size,config.dropouts,config.epochs,config.batch_size)\n",
        "    s2s.create_data()\n",
        "    model=s2s.create_model()\n",
        "    s2s.run(model)"
      ],
      "execution_count": null,
      "outputs": []
    },
    {
      "cell_type": "code",
      "metadata": {
        "id": "NrRxXczDegXi",
        "colab": {
          "base_uri": "https://localhost:8080/",
          "height": 1000,
          "referenced_widgets": [
            "ac4520a0d315405e9fcd61f3d12c6b43",
            "5de23cde53bb488fb0727cd07559ae8b",
            "1731398979f14a669f8e90ae1eccd4ed",
            "a3896a3957cf4399909348c69751b401",
            "ffa436550db6423d8e886d232138a58d",
            "b326296444d84509aa05b8cff1dba255",
            "be869afc20f34c679df62348a41bef4e",
            "6cb8178d83c648f58687af9c66a150ff"
          ]
        },
        "outputId": "2d232fa3-520a-42cb-85c2-47ad2f1740cb"
      },
      "source": [
        "wandb.agent(sweep_id,train)"
      ],
      "execution_count": null,
      "outputs": [
        {
          "output_type": "stream",
          "text": [
            "\u001b[34m\u001b[1mwandb\u001b[0m: \u001b[33mWARNING\u001b[0m Calling wandb.login() after wandb.init() has no effect.\n",
            "\u001b[34m\u001b[1mwandb\u001b[0m: Agent Starting Run: chl404lv with config:\n",
            "\u001b[34m\u001b[1mwandb\u001b[0m: \tbatch_size: 32\n",
            "\u001b[34m\u001b[1mwandb\u001b[0m: \tcell: lstm\n",
            "\u001b[34m\u001b[1mwandb\u001b[0m: \tdecoder_layers_size: 3\n",
            "\u001b[34m\u001b[1mwandb\u001b[0m: \tdropouts: 0.2\n",
            "\u001b[34m\u001b[1mwandb\u001b[0m: \tembedding_size: 20\n",
            "\u001b[34m\u001b[1mwandb\u001b[0m: \tencoder_layers_size: 3\n",
            "\u001b[34m\u001b[1mwandb\u001b[0m: \tepochs: 3\n",
            "\u001b[34m\u001b[1mwandb\u001b[0m: \tlatent_dim: 64\n"
          ],
          "name": "stderr"
        },
        {
          "output_type": "display_data",
          "data": {
            "text/html": [
              "\n",
              "                Tracking run with wandb version 0.10.30<br/>\n",
              "                Syncing run <strong style=\"color:#cdcd00\">absurd-sweep-1</strong> to <a href=\"https://wandb.ai\" target=\"_blank\">Weights & Biases</a> <a href=\"https://docs.wandb.com/integrations/jupyter.html\" target=\"_blank\">(Documentation)</a>.<br/>\n",
              "                Project page: <a href=\"https://wandb.ai/adi00510/assignment%203%20question%202_\" target=\"_blank\">https://wandb.ai/adi00510/assignment%203%20question%202_</a><br/>\n",
              "                Sweep page: <a href=\"https://wandb.ai/adi00510/assignment%203%20question%202_/sweeps/x5jjfioq\" target=\"_blank\">https://wandb.ai/adi00510/assignment%203%20question%202_/sweeps/x5jjfioq</a><br/>\n",
              "Run page: <a href=\"https://wandb.ai/adi00510/assignment%203%20question%202_/runs/chl404lv\" target=\"_blank\">https://wandb.ai/adi00510/assignment%203%20question%202_/runs/chl404lv</a><br/>\n",
              "                Run data is saved locally in <code>/content/wandb/run-20210520_062053-chl404lv</code><br/><br/>\n",
              "            "
            ],
            "text/plain": [
              "<IPython.core.display.HTML object>"
            ]
          },
          "metadata": {
            "tags": []
          }
        },
        {
          "output_type": "stream",
          "text": [
            "Epoch 1/3\n",
            "1830/1830 [==============================] - 70s 17ms/step - loss: 1.4439 - accuracy: 0.6580 - val_loss: 0.9604 - val_accuracy: 0.7229\n",
            "vallidation accuracy = 0.0\n",
            "Epoch 2/3\n",
            "1830/1830 [==============================] - 29s 16ms/step - loss: 1.0190 - accuracy: 0.7061 - val_loss: 0.8967 - val_accuracy: 0.7432\n",
            "vallidation accuracy = 0.0\n",
            "Epoch 3/3\n",
            "1830/1830 [==============================] - 31s 17ms/step - loss: 0.9417 - accuracy: 0.7289 - val_loss: 0.7744 - val_accuracy: 0.7699\n",
            "vallidation accuracy = 0.00017596339961288053\n"
          ],
          "name": "stdout"
        },
        {
          "output_type": "display_data",
          "data": {
            "text/html": [
              "<br/>Waiting for W&B process to finish, PID 210<br/>Program ended successfully."
            ],
            "text/plain": [
              "<IPython.core.display.HTML object>"
            ]
          },
          "metadata": {
            "tags": []
          }
        },
        {
          "output_type": "display_data",
          "data": {
            "application/vnd.jupyter.widget-view+json": {
              "model_id": "ac4520a0d315405e9fcd61f3d12c6b43",
              "version_minor": 0,
              "version_major": 2
            },
            "text/plain": [
              "VBox(children=(Label(value=' 0.00MB of 0.00MB uploaded (0.00MB deduped)\\r'), FloatProgress(value=1.0, max=1.0)…"
            ]
          },
          "metadata": {
            "tags": []
          }
        },
        {
          "output_type": "display_data",
          "data": {
            "text/html": [
              "Find user logs for this run at: <code>/content/wandb/run-20210520_062053-chl404lv/logs/debug.log</code>"
            ],
            "text/plain": [
              "<IPython.core.display.HTML object>"
            ]
          },
          "metadata": {
            "tags": []
          }
        },
        {
          "output_type": "display_data",
          "data": {
            "text/html": [
              "Find internal logs for this run at: <code>/content/wandb/run-20210520_062053-chl404lv/logs/debug-internal.log</code>"
            ],
            "text/plain": [
              "<IPython.core.display.HTML object>"
            ]
          },
          "metadata": {
            "tags": []
          }
        },
        {
          "output_type": "display_data",
          "data": {
            "text/html": [
              "<h3>Run summary:</h3><br/><style>\n",
              "    table.wandb td:nth-child(1) { padding: 0 10px; text-align: right }\n",
              "    </style><table class=\"wandb\">\n",
              "<tr><td>epoch</td><td>2</td></tr><tr><td>loss</td><td>0.91317</td></tr><tr><td>accuracy</td><td>0.7359</td></tr><tr><td>val_loss</td><td>0.77441</td></tr><tr><td>val_accuracy</td><td>0.76989</td></tr><tr><td>validation accuracy</td><td>0.00018</td></tr><tr><td>_runtime</td><td>719</td></tr><tr><td>_timestamp</td><td>1621492372</td></tr><tr><td>_step</td><td>2</td></tr></table>"
            ],
            "text/plain": [
              "<IPython.core.display.HTML object>"
            ]
          },
          "metadata": {
            "tags": []
          }
        },
        {
          "output_type": "display_data",
          "data": {
            "text/html": [
              "<h3>Run history:</h3><br/><style>\n",
              "    table.wandb td:nth-child(1) { padding: 0 10px; text-align: right }\n",
              "    </style><table class=\"wandb\">\n",
              "<tr><td>epoch</td><td>▁▅█</td></tr><tr><td>loss</td><td>█▃▁</td></tr><tr><td>accuracy</td><td>▁▅█</td></tr><tr><td>val_loss</td><td>█▆▁</td></tr><tr><td>val_accuracy</td><td>▁▄█</td></tr><tr><td>validation accuracy</td><td>▁▁█</td></tr><tr><td>_runtime</td><td>▁▄█</td></tr><tr><td>_timestamp</td><td>▁▄█</td></tr><tr><td>_step</td><td>▁▅█</td></tr></table><br/>"
            ],
            "text/plain": [
              "<IPython.core.display.HTML object>"
            ]
          },
          "metadata": {
            "tags": []
          }
        },
        {
          "output_type": "display_data",
          "data": {
            "text/html": [
              "Synced 5 W&B file(s), 1 media file(s), 0 artifact file(s) and 0 other file(s)"
            ],
            "text/plain": [
              "<IPython.core.display.HTML object>"
            ]
          },
          "metadata": {
            "tags": []
          }
        },
        {
          "output_type": "display_data",
          "data": {
            "text/html": [
              "\n",
              "                    <br/>Synced <strong style=\"color:#cdcd00\">absurd-sweep-1</strong>: <a href=\"https://wandb.ai/adi00510/assignment%203%20question%202_/runs/chl404lv\" target=\"_blank\">https://wandb.ai/adi00510/assignment%203%20question%202_/runs/chl404lv</a><br/>\n",
              "                "
            ],
            "text/plain": [
              "<IPython.core.display.HTML object>"
            ]
          },
          "metadata": {
            "tags": []
          }
        },
        {
          "output_type": "stream",
          "text": [
            "\u001b[34m\u001b[1mwandb\u001b[0m: Agent Starting Run: sp8t5pna with config:\n",
            "\u001b[34m\u001b[1mwandb\u001b[0m: \tbatch_size: 32\n",
            "\u001b[34m\u001b[1mwandb\u001b[0m: \tcell: gru\n",
            "\u001b[34m\u001b[1mwandb\u001b[0m: \tdecoder_layers_size: 1\n",
            "\u001b[34m\u001b[1mwandb\u001b[0m: \tdropouts: 0.2\n",
            "\u001b[34m\u001b[1mwandb\u001b[0m: \tembedding_size: 20\n",
            "\u001b[34m\u001b[1mwandb\u001b[0m: \tencoder_layers_size: 3\n",
            "\u001b[34m\u001b[1mwandb\u001b[0m: \tepochs: 6\n",
            "\u001b[34m\u001b[1mwandb\u001b[0m: \tlatent_dim: 512\n",
            "\u001b[34m\u001b[1mwandb\u001b[0m: Currently logged in as: \u001b[33madi00510\u001b[0m (use `wandb login --relogin` to force relogin)\n"
          ],
          "name": "stderr"
        },
        {
          "output_type": "display_data",
          "data": {
            "text/html": [
              "\n",
              "                Tracking run with wandb version 0.10.30<br/>\n",
              "                Syncing run <strong style=\"color:#cdcd00\">blooming-sweep-2</strong> to <a href=\"https://wandb.ai\" target=\"_blank\">Weights & Biases</a> <a href=\"https://docs.wandb.com/integrations/jupyter.html\" target=\"_blank\">(Documentation)</a>.<br/>\n",
              "                Project page: <a href=\"https://wandb.ai/adi00510/assignment%203%20question%202_\" target=\"_blank\">https://wandb.ai/adi00510/assignment%203%20question%202_</a><br/>\n",
              "                Sweep page: <a href=\"https://wandb.ai/adi00510/assignment%203%20question%202_/sweeps/x5jjfioq\" target=\"_blank\">https://wandb.ai/adi00510/assignment%203%20question%202_/sweeps/x5jjfioq</a><br/>\n",
              "Run page: <a href=\"https://wandb.ai/adi00510/assignment%203%20question%202_/runs/sp8t5pna\" target=\"_blank\">https://wandb.ai/adi00510/assignment%203%20question%202_/runs/sp8t5pna</a><br/>\n",
              "                Run data is saved locally in <code>/content/wandb/run-20210520_063256-sp8t5pna</code><br/><br/>\n",
              "            "
            ],
            "text/plain": [
              "<IPython.core.display.HTML object>"
            ]
          },
          "metadata": {
            "tags": []
          }
        },
        {
          "output_type": "stream",
          "text": [
            "Epoch 1/6\n",
            "1830/1830 [==============================] - 44s 21ms/step - loss: 1.1630 - accuracy: 0.6992 - val_loss: 0.3905 - val_accuracy: 0.8839\n",
            "vallidation accuracy = 0.06704205525250748\n",
            "Epoch 2/6\n",
            "1830/1830 [==============================] - 37s 20ms/step - loss: 0.3214 - accuracy: 0.9044 - val_loss: 0.1533 - val_accuracy: 0.9531\n"
          ],
          "name": "stdout"
        }
      ]
    },
    {
      "cell_type": "markdown",
      "metadata": {
        "id": "0tX34LU5WGo7"
      },
      "source": [
        "# Using the best hyperparameters "
      ]
    },
    {
      "cell_type": "code",
      "metadata": {
        "id": "srccgP3i_6IC",
        "colab": {
          "base_uri": "https://localhost:8080/"
        },
        "outputId": "3fbe3454-d599-41c5-a38d-00392c6314bd"
      },
      "source": [
        "s2s = seq2seq(\"gru\",12,512,2,2,0.2,6,32)\n",
        "s2s.create_data()\n",
        "model=s2s.create_model()\n",
        "s2s.run(model)"
      ],
      "execution_count": null,
      "outputs": [
        {
          "output_type": "stream",
          "text": [
            "Epoch 1/6\n",
            "1830/1830 [==============================] - 71s 19ms/step - loss: 1.1835 - accuracy: 0.6893 - val_loss: 0.6965 - val_accuracy: 0.7980\n",
            "WordAccuracy = 0.00035192679922576106\n",
            "Epoch 2/6\n",
            "1830/1830 [==============================] - 35s 19ms/step - loss: 0.6038 - accuracy: 0.8229 - val_loss: 0.3091 - val_accuracy: 0.9059\n",
            "WordAccuracy = 0.1263417209220482\n",
            "Epoch 3/6\n",
            "1830/1830 [==============================] - 34s 19ms/step - loss: 0.2614 - accuracy: 0.9193 - val_loss: 0.2051 - val_accuracy: 0.9383\n",
            "WordAccuracy = 0.29227520675699453\n",
            "Epoch 4/6\n",
            "1830/1830 [==============================] - 35s 19ms/step - loss: 0.1507 - accuracy: 0.9542 - val_loss: 0.1673 - val_accuracy: 0.9502\n",
            "WordAccuracy = 0.37339433397853244\n",
            "Epoch 5/6\n",
            "1830/1830 [==============================] - 34s 19ms/step - loss: 0.1060 - accuracy: 0.9676 - val_loss: 0.1562 - val_accuracy: 0.9551\n",
            "WordAccuracy = 0.4291747316558156\n",
            "Epoch 6/6\n",
            "1830/1830 [==============================] - 34s 18ms/step - loss: 0.0834 - accuracy: 0.9742 - val_loss: 0.1551 - val_accuracy: 0.9560\n",
            "WordAccuracy = 0.42512757346471935\n"
          ],
          "name": "stdout"
        }
      ]
    },
    {
      "cell_type": "code",
      "metadata": {
        "colab": {
          "base_uri": "https://localhost:8080/"
        },
        "id": "7qMtUCZzhTEB",
        "outputId": "3c2389ed-96cc-4087-d885-952cb81aff63"
      },
      "source": [
        "# Counting correct prediction\n",
        "count = 0\n",
        "for i in range(s2s.encoder_test.shape[0]):\n",
        "    pred = model([np.expand_dims(s2s.encoder_test[i],0),np.expand_dims(s2s.decoder_test[i],0)])\n",
        "    actual_out = re.sub('\\t|\\n','',''.join([s2s.inv_target_token_index[s2s.decoder_test[i][j]] for j in range(s2s.max_length_y)]))\n",
        "    predicted_out = re.sub('\\t|\\n','',''.join(s2s.inv_target_token_index[np.argmax(pred[0][j])] for j in range(s2s.max_length_y)))\n",
        "    if (actual_out==predicted_out):\n",
        "        count+=1\n",
        "\n",
        "print(\"Percentage of correct predictions for test dataset is\",count*100/s2s.encoder_test.shape[0])"
      ],
      "execution_count": null,
      "outputs": [
        {
          "output_type": "stream",
          "text": [
            "Percentage of correct predictions for test dataset is 41.67391682617018\n"
          ],
          "name": "stdout"
        }
      ]
    },
    {
      "cell_type": "code",
      "metadata": {
        "id": "Zm1vrbiCc4Ho",
        "colab": {
          "base_uri": "https://localhost:8080/"
        },
        "outputId": "f2a49894-5227-4d2c-a5c9-f803cbe35ddf"
      },
      "source": [
        "for i in [np.random.randint(0,s2s.encoder_test.shape[0]) for j in range(5)]:\n",
        "    pred = model([np.expand_dims(s2s.encoder_test[i],0),np.expand_dims(s2s.decoder_test[i],0)])\n",
        "    print(\"Index --\",i)\n",
        "    print('Actual Input....  '+re.sub('\\t|\\n','',''.join([s2s.inv_input_token_index[s2s.encoder_test[i][j]] for j in range(s2s.max_length_x)])))\n",
        "    print('Actual Output.... '+re.sub('\\t|\\n','',''.join([s2s.inv_target_token_index[s2s.decoder_test[i][j]] for j in range(s2s.max_length_y)])))\n",
        "    print('Predicted.......  '+re.sub('\\t|\\n','',''.join(s2s.inv_target_token_index[np.argmax(pred[0][j])] for j in range(s2s.max_length_y))))\n",
        "    print(\"----------------------------------------\\n\\n\")\n"
      ],
      "execution_count": null,
      "outputs": [
        {
          "output_type": "stream",
          "text": [
            "Index -- 3251\n",
            "Actual Input....  pondhaali\n",
            "Actual Output.... పొందాలి\n",
            "Predicted.......  పొందాలి\n",
            "----------------------------------------\n",
            "\n",
            "\n",
            "Index -- 3693\n",
            "Actual Input....  betaaludu\n",
            "Actual Output.... బేతాళుడు\n",
            "Predicted.......  బేతాలుడు\n",
            "----------------------------------------\n",
            "\n",
            "\n",
            "Index -- 1061\n",
            "Actual Input....  kalyaani\n",
            "Actual Output.... కల్యాణి\n",
            "Predicted.......  కళ్యాణీ\n",
            "----------------------------------------\n",
            "\n",
            "\n",
            "Index -- 2254\n",
            "Actual Input....  teramidaki\n",
            "Actual Output.... తెరమీదికి\n",
            "Predicted.......  తెరమిదదకి\n",
            "----------------------------------------\n",
            "\n",
            "\n",
            "Index -- 4390\n",
            "Actual Input....  rajamandri\n",
            "Actual Output.... రాజమండ్రి\n",
            "Predicted.......  రాజమందిరి\n",
            "----------------------------------------\n",
            "\n",
            "\n"
          ],
          "name": "stdout"
        }
      ]
    },
    {
      "cell_type": "code",
      "metadata": {
        "id": "YpinqF273bmg"
      },
      "source": [
        "import pandas as  pd\n",
        "pred_l,actual_l,input_l = [],[],[]\n",
        "for i in range(s2s.encoder_test.shape[0]):\n",
        "    pred = model([np.expand_dims(s2s.encoder_test[i],0),np.expand_dims(s2s.decoder_test[i],0)])\n",
        "    input = re.sub('\\t|\\n','',''.join([s2s.inv_input_token_index[s2s.encoder_test[i][j]] for j in range(s2s.max_length_x)]))\n",
        "    actual_out = re.sub('\\t|\\n','',''.join([s2s.inv_target_token_index[s2s.decoder_test[i][j]] for j in range(s2s.max_length_y)]))\n",
        "    predicted_out = re.sub('\\t|\\n','',''.join(s2s.inv_target_token_index[np.argmax(pred[0][j])] for j in range(s2s.max_length_y)))\n",
        "    input_l.append(input)\n",
        "    actual_l.append(actual_out)\n",
        "    pred_l.append(predicted_out)\n",
        "\n",
        "input_l = pd.Series(input_l)\n",
        "actual_l = pd.Series(actual_l)\n",
        "pred_l = pd.Series(pred_l)\n",
        "\n",
        "df = pd.concat((input_l,actual_l,pred_l),axis=1)\n",
        "df.columns = [\"Actual_Input\",\"Actual_Output\",\"Predicted_Output\"]\n",
        "df.to_csv(\"predictions_vanilla.csv\",index=False)"
      ],
      "execution_count": null,
      "outputs": []
    },
    {
      "cell_type": "code",
      "metadata": {
        "colab": {
          "base_uri": "https://localhost:8080/",
          "height": 795
        },
        "id": "OMsEgQX1fkny",
        "outputId": "4f1ec270-a760-4994-d351-482bbffa86a7"
      },
      "source": [
        "import matplotlib as mpl\n",
        "import matplotlib.pyplot as plt\n",
        "from matplotlib.font_manager import FontProperties as FontProperties\n",
        "\n",
        "\n",
        "fig,axs = plt.subplots(3,3,figsize=(14,14))\n",
        "font_new =  fontp(fname='telugu.ttf')\n",
        "font_dict = {'fontsize':50}\n",
        "\n",
        "for x in axs:\n",
        "  for ax in x:\n",
        "    ax.set_xticks([])\n",
        "    ax.set_yticks([])\n",
        "\n",
        "idx = [i for i in range(s2s.encoder_test.shape[0])]\n",
        "random.shuffle(idx)\n",
        "idx = idx[:9]\n",
        "count = 0\n",
        "\n",
        "for p in range(axs.shape[0]):\n",
        "  for q in range(axs.shape[1]):\n",
        "    i = idx[count]\n",
        "    pred = model([np.expand_dims(s2s.encoder_test[i],0),np.expand_dims(s2s.decoder_test[i],0)])\n",
        "    input = re.sub('\\t|\\n','',''.join([s2s.inv_input_token_index[s2s.encoder_test[i][j]] for j in range(s2s.max_length_x)]))\n",
        "    actual_out = re.sub('\\t|\\n','',''.join([s2s.inv_target_token_index[s2s.decoder_test[i][j]] for j in range(s2s.max_length_y)]))\n",
        "    predicted_out = re.sub('\\t|\\n','',''.join(s2s.inv_target_token_index[np.argmax(pred[0][j])] for j in range(s2s.max_length_y)))\n",
        "\n",
        "    axs[p,q].text(0.1, 0.9, \"Input: \"+input, fontsize = 12)\n",
        "    axs[p,q].text(0.1, 0.7, \"Actual Output: \", fontsize = 12)\n",
        "    axs[p,q].text(0.6, 0.7, actual_out,fontdict=font_dict,fontproperties=font_new)\n",
        "    axs[p,q].text(0.1, 0.5, \"Predicted Output: \", fontsize = 12)\n",
        "    if actual_out == predicted_out:\n",
        "      axs[p,q].text(0.6, 0.5, predicted_out,fontsize=30, bbox = {'facecolor':'green','pad':5,\"alpha\":0.5},fontproperties=font_new)\n",
        "    else:\n",
        "      axs[p,q].text(0.6, 0.5, predicted_out,fontsize=30, bbox = {'facecolor':'red','pad':5,\"alpha\":0.5},fontproperties=font_new)\n",
        "\n",
        "    count += 1\n"
      ],
      "execution_count": null,
      "outputs": [
        {
          "output_type": "display_data",
          "data": {
            "image/png": "[encoded data removed]",
            "text/plain": [
              "<Figure size 1008x1008 with 9 Axes>"
            ]
          },
          "metadata": {
            "tags": []
          }
        }
      ]
    }
  ]
}